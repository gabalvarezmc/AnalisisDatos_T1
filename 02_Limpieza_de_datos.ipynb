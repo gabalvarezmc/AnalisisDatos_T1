{
 "cells": [
  {
   "cell_type": "markdown",
   "metadata": {},
   "source": [
    "# Limpieza de datos"
   ]
  },
  {
   "cell_type": "code",
   "execution_count": 15,
   "metadata": {},
   "outputs": [],
   "source": [
    "import pandas as pd\n",
    "import numpy as np\n",
    "import matplotlib.pyplot as plt\n",
    "df = pd.read_csv('DelayedFlights.csv', low_memory=False)"
   ]
  },
  {
   "cell_type": "markdown",
   "metadata": {},
   "source": [
    "## Redefinición de nombres de columnas\n",
    "Como la base de datos tiene nombres de columnas con carácteres especiales, se realiza una estandarización de los nombres de columnas, reemplazando espacios, tildes y otros carácteres especiales que se puedan encontrar.\n",
    "Esto se hace para evitar problemas futuros en el llamado de las columnas y para facilitar el trabajo del dataset."
   ]
  },
  {
   "cell_type": "code",
   "execution_count": 16,
   "metadata": {},
   "outputs": [
    {
     "name": "stdout",
     "output_type": "stream",
     "text": [
      "Index(['Year', 'Month', 'DayofMonth', 'DayOfWeek', 'DepTime', 'CRSDepTime',\n",
      "       'ArrTime', 'CRSArrTime', 'UniqueCarrier', 'FlightNum', 'TailNum',\n",
      "       'ActualElapsedTime', 'CRSElapsedTime', 'AirTime', 'ArrDelay',\n",
      "       'DepDelay', 'Origin', 'Dest', 'Distance', 'TaxiIn', 'TaxiOut',\n",
      "       'Cancelled', 'CancellationCode', 'Diverted', 'CarrierDelay',\n",
      "       'WeatherDelay', 'NASDelay', 'SecurityDelay', 'LateAircraftDelay', 'id'],\n",
      "      dtype='object')\n"
     ]
    }
   ],
   "source": [
    "df['id'] = df['Unnamed: 0']\n",
    "df.drop(['Unnamed: 0'], axis=1, inplace=True)\n",
    "print(df.columns)"
   ]
  },
  {
   "cell_type": "markdown",
   "metadata": {},
   "source": [
    "## Valores duplicados\n",
    "Como se pudo observar en la fase de análisis exploratorio, aparentemente en el dataset no existen valores duplicados. Sin embargo, es importante tener en cuenta que no pueden existir 2 vuelos con el mismo número de vuelo, misma fecha de despegue, mismos origen y destino y mismo carrier. Por esta razón, se ve si existen filas que compartan toda esta información en común"
   ]
  },
  {
   "cell_type": "code",
   "execution_count": 17,
   "metadata": {},
   "outputs": [
    {
     "name": "stdout",
     "output_type": "stream",
     "text": [
      "Número de filas del dataset: 1936758\n",
      "Número de vuelos diferentes: 1936756\n"
     ]
    }
   ],
   "source": [
    "flight_def_cols = [\"FlightNum\", \"Year\", \"Month\", \"DayofMonth\", \"CRSDepTime\", \"Origin\", \"Dest\", \"UniqueCarrier\"]\n",
    "numero_inicial_filas = len(df)\n",
    "print(f\"Número de filas del dataset: {numero_inicial_filas}\")\n",
    "print(f\"Número de vuelos diferentes: {len(df.drop_duplicates(subset=flight_def_cols, inplace = False))}\")"
   ]
  },
  {
   "cell_type": "markdown",
   "metadata": {},
   "source": [
    "Como se puede ver difieren en 2 filas, por lo cual hay 2 vuelos repetidos. Se filtran estos vuelos:"
   ]
  },
  {
   "cell_type": "code",
   "execution_count": 18,
   "metadata": {},
   "outputs": [],
   "source": [
    "df.drop_duplicates(subset=flight_def_cols, inplace = True)"
   ]
  },
  {
   "cell_type": "markdown",
   "metadata": {},
   "source": [
    "## Valores nulos\n",
    "Como primera medida, se considera como regla dejar fuera las columnas que tienen más de un 50% de datos nulos debido a la falta de información suficiente. \n",
    "\n",
    "Como las columnas del dataset que tienen valores nulos son menores del 50%, se mantendrán y se procederá a imputarlos\n",
    "\n"
   ]
  },
  {
   "cell_type": "code",
   "execution_count": 19,
   "metadata": {},
   "outputs": [
    {
     "name": "stdout",
     "output_type": "stream",
     "text": [
      "LateAircraftDelay    35.588892\n",
      "WeatherDelay         35.588892\n",
      "NASDelay             35.588892\n",
      "SecurityDelay        35.588892\n",
      "CarrierDelay         35.588892\n",
      "ActualElapsedTime     0.433044\n",
      "ArrDelay              0.433044\n",
      "AirTime               0.433044\n",
      "ArrTime               0.367109\n",
      "TaxiIn                0.367109\n",
      "TaxiOut               0.023493\n",
      "CRSElapsedTime        0.010223\n",
      "TailNum               0.000258\n",
      "dtype: float64\n"
     ]
    }
   ],
   "source": [
    "missing_values = df.isnull().sum()\n",
    "missing_values = missing_values[missing_values > 0].sort_values(ascending=False)\n",
    "missing_values = missing_values / df.shape[0] * 100\n",
    "cols_with_more_than50_mv = missing_values[missing_values > 50]\n",
    "print(missing_values)"
   ]
  },
  {
   "cell_type": "markdown",
   "metadata": {},
   "source": [
    "Respecto a los datos de demoras, para la imputación de datos se considera que el realizarlo en base a la media de los datos puede no ser la mejor opción, ya que puede generar un sesgo en los datos. Esto considerando que la mayoría de los vuelos no presentan demoras, por lo que la media de los datos no sería representativa. Por esta razón, se opta por imputar los valores nulos con el valor 0, ya que se considera que si no hay información de demora, es porque no hubo demora en el vuelo.\n",
    "\n",
    "Por parte de la columna TailNum, se imputa con la moda, ya que es un dato categórico y hace referencia al tipo de aviación que se utilizó en el vuelo, por lo que se considera que no se cae en un sesgo al imputar con este valor al ser el más frecuente.\n",
    "\n",
    "fillna ArrTime by CRSArrTime + ArrDelayPor parte de la columna ArrTime, se imputa con la suma de CRSArrTime y ArrDelay, ya que se considera que si no hay información de la hora de llegada, se puede calcular con la hora de llegada programada y la demora en la llegada.\n",
    "\n",
    "Por parte de la columna CRSElapsedTime, se imputa con la diferencia entre la hora de llegada real y la hora de salida real, ya que se considera que si no hay información de la duración del vuelo se puede calcular con estos.\n",
    "\n",
    "Por parte de la columna ActualElapsedTime, se imputa con la diferencia entre la hora de llegada programada y la hora de salida programada, ya que se considera que si no hay información de la duración del vuelo se puede calcular con estos.\n",
    "\n",
    "Por parte de las columnas TaxiIn y TaxiOut, se imputa con la media, ya que se considera que si no hay información del tiempo que toma al aviación llegar a la puerta de embarque o salir de ella, se puede usar como buena referencia la media de estos tiempos.\n",
    "\n",
    "Por parte de la columna AirTime, se imputa con la diferencia entre la duración del vuelo real y el tiempo que toma al aviación llegar a la puerta de embarque y salir de ella, ya que se considera que si no hay información del tiempo que toma al aviación en el aire, se puede calcular con estos."
   ]
  },
  {
   "cell_type": "code",
   "execution_count": 25,
   "metadata": {},
   "outputs": [],
   "source": [
    "delay_fields = ['LateAircraftDelay', 'WeatherDelay', 'NASDelay', 'SecurityDelay', 'CarrierDelay', 'ArrDelay']\n",
    "df[delay_fields] = df[delay_fields].fillna(0)\n",
    "df['TailNum'] = df['TailNum'].fillna(df['TailNum'].mode()[0])\n",
    "df['ArrTime'] = df['ArrTime'].fillna(df['CRSArrTime'] + df['ArrDelay'])\n",
    "df['CRSElapsedTime'] = df['CRSElapsedTime'].fillna(df['ArrTime'] - df['DepTime'])\n",
    "df['ActualElapsedTime'] = df['ActualElapsedTime'].fillna(df['CRSArrTime'] - df['CRSDepTime'])\n",
    "df['TaxiIn'] = df['TaxiIn'].fillna(df['TaxiIn'].mean())\n",
    "df['TaxiOut'] = df['TaxiOut'].fillna(df['TaxiOut'].mean())\n",
    "df['AirTime'] = df['AirTime'].fillna(df['ActualElapsedTime'] - df['TaxiIn'] - df['TaxiOut'])\n"
   ]
  },
  {
   "cell_type": "code",
   "execution_count": 27,
   "metadata": {},
   "outputs": [
    {
     "name": "stdout",
     "output_type": "stream",
     "text": [
      "Series([], dtype: float64)\n"
     ]
    }
   ],
   "source": [
    "missing_values = df.isnull().sum()\n",
    "missing_values = missing_values[missing_values > 0].sort_values(ascending=False)\n",
    "missing_values = missing_values / df.shape[0] * 100\n",
    "print(missing_values)"
   ]
  },
  {
   "cell_type": "markdown",
   "metadata": {},
   "source": [
    "# Creación de nuevas variables\n"
   ]
  },
  {
   "cell_type": "markdown",
   "metadata": {},
   "source": [
    "Se crea la variable **DepartureHour** que indica la hora de salida del vuelo (horas), para poder analizar si la hora de salida influye en la demora del vuelo."
   ]
  },
  {
   "cell_type": "code",
   "execution_count": 29,
   "metadata": {},
   "outputs": [
    {
     "name": "stdout",
     "output_type": "stream",
     "text": [
      "   DepartureHour\n",
      "0             20\n",
      "1              7\n",
      "2              6\n",
      "3             18\n",
      "4             19\n"
     ]
    }
   ],
   "source": [
    "df['DepartureHour'] = (df['DepTime'] // 100).astype(int)\n",
    "print(df[['DepartureHour']].head())"
   ]
  },
  {
   "cell_type": "markdown",
   "metadata": {},
   "source": [
    "Se crea la variabel **ArrivalHour** que indica la hora de llegada del vuelo (horas), para poder analizar si la hora de llegada influye en la demora del vuelo."
   ]
  },
  {
   "cell_type": "code",
   "execution_count": 13,
   "metadata": {},
   "outputs": [
    {
     "name": "stdout",
     "output_type": "stream",
     "text": [
      "   ArrivalHour\n",
      "0           22\n",
      "1           10\n",
      "2            8\n",
      "3           19\n",
      "4           21\n"
     ]
    }
   ],
   "source": [
    "df['ArrivalHour'] = (df['ArrTime'] // 100).astype(int)\n",
    "\n",
    "print(df[['ArrivalHour']].head())"
   ]
  },
  {
   "cell_type": "markdown",
   "metadata": {},
   "source": [
    "Se crea la variable **FlightDuration** que indica la duración del vuelo en minutos, para poder analizar si la duración del vuelo influye en la demora del vuelo."
   ]
  },
  {
   "cell_type": "code",
   "execution_count": 14,
   "metadata": {},
   "outputs": [
    {
     "name": "stdout",
     "output_type": "stream",
     "text": [
      "   FlightDuration\n",
      "0           116.0\n",
      "1           113.0\n",
      "2            76.0\n",
      "3            77.0\n",
      "4            87.0\n"
     ]
    }
   ],
   "source": [
    "df['FlightDuration'] = df['ActualElapsedTime'] - df['TaxiIn'] - df['TaxiOut']\n",
    "print(df[['FlightDuration']].head())\n"
   ]
  },
  {
   "cell_type": "markdown",
   "metadata": {},
   "source": [
    "Se crea la variable **DistanceCategory** que indica la distancia del vuelo en categorías, para poder analizar si la distancia del vuelo influye en la demora del vuelo. Esta variable se crea a partir de la variable Distance, dividiendo los vuelos en 3 categorías: short (0-300 millas), medium (300-800 millas) y long (más de 800 millas)."
   ]
  },
  {
   "cell_type": "code",
   "execution_count": 18,
   "metadata": {},
   "outputs": [
    {
     "name": "stdout",
     "output_type": "stream",
     "text": [
      "    Distance DistanceCategory\n",
      "0        810             Long\n",
      "1        810             Long\n",
      "2        515           Medium\n",
      "3        515           Medium\n",
      "4        688           Medium\n",
      "5       1591             Long\n",
      "6        828             Long\n",
      "7        828             Long\n",
      "8        162            Short\n",
      "9       1489             Long\n",
      "10      1489             Long\n",
      "11       838             Long\n",
      "12       220            Short\n",
      "13       220            Short\n",
      "14       220            Short\n",
      "15       220            Short\n",
      "16       220            Short\n",
      "17      1093             Long\n",
      "18      1093             Long\n",
      "19       972             Long\n"
     ]
    }
   ],
   "source": [
    "conditions = [\n",
    "    (df['Distance'] <= 300),\n",
    "    (df['Distance'] <= 800),\n",
    "    (df['Distance'] > 800)\n",
    "]\n",
    "choices = ['Short', 'Medium', 'Long']\n",
    "\n",
    "# Crea la nueva columna 'DistanceCategory' usando np.select\n",
    "df['DistanceCategory'] = np.select(conditions, choices, default='Unknown')\n",
    "\n",
    "# Imprime las primeras filas para verificar los cambios\n",
    "print(df[['Distance', 'DistanceCategory']].head(20))"
   ]
  },
  {
   "cell_type": "markdown",
   "metadata": {},
   "source": [
    "Se crea la variable **DepartureDelay** que indica la demora en la salida del vuelo en minutos, para poder analizar si la demora en la salida influye en la demora del vuelo."
   ]
  },
  {
   "cell_type": "code",
   "execution_count": 19,
   "metadata": {},
   "outputs": [
    {
     "name": "stdout",
     "output_type": "stream",
     "text": [
      "   DepTime  CRSDepTime  DepartureDelay\n",
      "0   2003.0        1955            48.0\n",
      "1    754.0         735            19.0\n",
      "2    628.0         620             8.0\n",
      "3   1829.0        1755            74.0\n",
      "4   1940.0        1915            25.0\n"
     ]
    }
   ],
   "source": [
    "df['DepartureDelay'] = df['DepTime'] - df['CRSDepTime']\n",
    "print(df[['DepTime', 'CRSDepTime', 'DepartureDelay']].head())\n"
   ]
  },
  {
   "cell_type": "markdown",
   "metadata": {},
   "source": [
    "Se crea la variable **ArrivalDelay** que indica la demora en la llegada del vuelo en minutos, para poder analizar si la demora en la llegada influye en la demora del vuelo."
   ]
  },
  {
   "cell_type": "code",
   "execution_count": 20,
   "metadata": {},
   "outputs": [
    {
     "name": "stdout",
     "output_type": "stream",
     "text": [
      "   ArrTime  CRSArrTime  ArrivalDelay\n",
      "0   2211.0        2225         -14.0\n",
      "1   1002.0        1000           2.0\n",
      "2    804.0         750          54.0\n",
      "3   1959.0        1925          34.0\n",
      "4   2121.0        2110          11.0\n"
     ]
    }
   ],
   "source": [
    "df['ArrivalDelay'] = df['ArrTime'] - df['CRSArrTime']\n",
    "print(df[['ArrTime', 'CRSArrTime', 'ArrivalDelay']].head())"
   ]
  },
  {
   "cell_type": "markdown",
   "metadata": {},
   "source": [
    "Se crea la variable **TotalDelay** que indica la demora total del vuelo en minutos, para poder analizar si la demora total del vuelo influye en la demora del vuelo."
   ]
  },
  {
   "cell_type": "code",
   "execution_count": 21,
   "metadata": {},
   "outputs": [
    {
     "name": "stdout",
     "output_type": "stream",
     "text": [
      "   DepartureDelay  ArrivalDelay  TotalDelay\n",
      "0            48.0         -14.0        34.0\n",
      "1            19.0           2.0        21.0\n",
      "2             8.0          54.0        62.0\n",
      "3            74.0          34.0       108.0\n",
      "4            25.0          11.0        36.0\n"
     ]
    }
   ],
   "source": [
    "df['TotalDelay'] = df['DepartureDelay'] + df['ArrivalDelay']\n",
    "print(df[['DepartureDelay', 'ArrivalDelay', 'TotalDelay']].head())"
   ]
  },
  {
   "cell_type": "markdown",
   "metadata": {},
   "source": [
    "Se crea la variable **ScheduledArrivalHour** que indica la hora de llegada programada del vuelo (horas), para poder analizar si la hora de llegada programada influye en la demora del vuelo."
   ]
  },
  {
   "cell_type": "code",
   "execution_count": 22,
   "metadata": {},
   "outputs": [
    {
     "name": "stdout",
     "output_type": "stream",
     "text": [
      "   CRSArrTime  ScheduledArrivalHour\n",
      "0        2225                    22\n",
      "1        1000                    10\n",
      "2         750                     7\n",
      "3        1925                    19\n",
      "4        2110                    21\n"
     ]
    }
   ],
   "source": [
    "df['ScheduledArrivalHour'] = (df['CRSArrTime'] // 100).astype(int)\n",
    "print(df[['CRSArrTime', 'ScheduledArrivalHour']].head())"
   ]
  },
  {
   "cell_type": "markdown",
   "metadata": {},
   "source": [
    "# Guardar dataset limpio\n",
    "A partir de aquí se guardará el dataset limpio y se importará en otros notebooks"
   ]
  },
  {
   "cell_type": "code",
   "execution_count": 11,
   "metadata": {},
   "outputs": [],
   "source": [
    "df.to_csv('DelayedFlightsClean.csv')"
   ]
  }
 ],
 "metadata": {
  "kernelspec": {
   "display_name": "Python 3",
   "language": "python",
   "name": "python3"
  },
  "language_info": {
   "codemirror_mode": {
    "name": "ipython",
    "version": 3
   },
   "file_extension": ".py",
   "mimetype": "text/x-python",
   "name": "python",
   "nbconvert_exporter": "python",
   "pygments_lexer": "ipython3",
   "version": "3.10.9"
  }
 },
 "nbformat": 4,
 "nbformat_minor": 2
}
