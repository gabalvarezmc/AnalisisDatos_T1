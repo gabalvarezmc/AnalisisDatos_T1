{
 "cells": [
  {
   "cell_type": "markdown",
   "metadata": {},
   "source": [
    "# Limpieza de datos"
   ]
  },
  {
   "cell_type": "code",
   "execution_count": 1,
   "metadata": {},
   "outputs": [],
   "source": [
    "import pandas as pd\n",
    "df = pd.read_csv('DelayedFlights.csv', low_memory=False)"
   ]
  },
  {
   "cell_type": "markdown",
   "metadata": {},
   "source": [
    "## Redefinición de nombres de columnas\n",
    "Como la base de datos tiene nombres de columnas con carácteres especiales, se realiza una estandarización de los nombres de columnas, reemplazando espacios, tildes y otros carácteres especiales que se puedan encontrar.\n",
    "Esto se hace para evitar problemas futuros en el llamado de las columnas y para facilitar el trabajo del dataset."
   ]
  },
  {
   "cell_type": "code",
   "execution_count": 2,
   "metadata": {},
   "outputs": [
    {
     "name": "stdout",
     "output_type": "stream",
     "text": [
      "Index(['Year', 'Month', 'DayofMonth', 'DayOfWeek', 'DepTime', 'CRSDepTime',\n",
      "       'ArrTime', 'CRSArrTime', 'UniqueCarrier', 'FlightNum', 'TailNum',\n",
      "       'ActualElapsedTime', 'CRSElapsedTime', 'AirTime', 'ArrDelay',\n",
      "       'DepDelay', 'Origin', 'Dest', 'Distance', 'TaxiIn', 'TaxiOut',\n",
      "       'Cancelled', 'CancellationCode', 'Diverted', 'CarrierDelay',\n",
      "       'WeatherDelay', 'NASDelay', 'SecurityDelay', 'LateAircraftDelay', 'id'],\n",
      "      dtype='object')\n"
     ]
    }
   ],
   "source": [
    "# column \"Unnamed: 0\" = \"id\"\n",
    "df['id'] = df['Unnamed: 0']\n",
    "df.drop(['Unnamed: 0'], axis=1, inplace=True)\n",
    "print(df.columns)"
   ]
  },
  {
   "cell_type": "markdown",
   "metadata": {},
   "source": [
    "## Valores duplicados\n",
    "Como se pudo observar en la fase de análisis exploratorio, aparentemente en el dataset no existen valores duplicados. Sin embargo, es importante tener en cuenta que no pueden existir 2 vuelos con el mismo número de vuelo, misma fecha de despegue, mismos origen y destino y mismo carrier. Por esta razón, se ve si existen filas que compartan toda esta información en común"
   ]
  },
  {
   "cell_type": "code",
   "execution_count": 2,
   "metadata": {},
   "outputs": [
    {
     "name": "stdout",
     "output_type": "stream",
     "text": [
      "Número de filas del dataset: 1936758\n",
      "Número de vuelos diferentes: 1936756\n"
     ]
    }
   ],
   "source": [
    "flight_def_cols = [\"FlightNum\", \"Year\", \"Month\", \"DayofMonth\", \"CRSDepTime\", \"Origin\", \"Dest\", \"UniqueCarrier\"]\n",
    "numero_inicial_filas = len(df)\n",
    "print(f\"Número de filas del dataset: {numero_inicial_filas}\")\n",
    "print(f\"Número de vuelos diferentes: {len(df.drop_duplicates(subset=flight_def_cols, inplace = False))}\")"
   ]
  },
  {
   "cell_type": "markdown",
   "metadata": {},
   "source": [
    "Como se puede ver difieren en 2 filas, por lo cual hay 2 vuelos repetidos. Se filtran estos vuelos:"
   ]
  },
  {
   "cell_type": "code",
   "execution_count": 4,
   "metadata": {},
   "outputs": [],
   "source": [
    "df.drop_duplicates(subset=flight_def_cols, inplace = True)"
   ]
  },
  {
   "cell_type": "markdown",
   "metadata": {},
   "source": [
    "## Valores nulos\n",
    "Como primera medida, se considera como regla dejar fuera las columnas que tienen más de un 50% de datos nulos debido a la falta de información suficiente. \n",
    "\n",
    "Como las columnas del dataset que tienen valores nulos son menores del 50%, se mantendrán y se procederá a imputarlos\n",
    "\n"
   ]
  },
  {
   "cell_type": "code",
   "execution_count": 5,
   "metadata": {},
   "outputs": [
    {
     "name": "stdout",
     "output_type": "stream",
     "text": [
      "LateAircraftDelay    35.588892\n",
      "WeatherDelay         35.588892\n",
      "NASDelay             35.588892\n",
      "SecurityDelay        35.588892\n",
      "CarrierDelay         35.588892\n",
      "ActualElapsedTime     0.433044\n",
      "ArrDelay              0.433044\n",
      "AirTime               0.433044\n",
      "ArrTime               0.367109\n",
      "TaxiIn                0.367109\n",
      "TaxiOut               0.023493\n",
      "CRSElapsedTime        0.010223\n",
      "TailNum               0.000258\n",
      "dtype: float64\n"
     ]
    }
   ],
   "source": [
    "missing_values = df.isnull().sum()\n",
    "missing_values = missing_values[missing_values > 0].sort_values(ascending=False)\n",
    "missing_values = missing_values / df.shape[0] * 100\n",
    "cols_with_more_than50_mv = missing_values[missing_values > 50]\n",
    "print(missing_values)"
   ]
  },
  {
   "cell_type": "code",
   "execution_count": 40,
   "metadata": {},
   "outputs": [],
   "source": [
    "# IMPUTACIÓN DE VALORES FALTANTES"
   ]
  },
  {
   "cell_type": "code",
   "execution_count": 41,
   "metadata": {},
   "outputs": [
    {
     "name": "stdout",
     "output_type": "stream",
     "text": [
      "Series([], dtype: float64)\n"
     ]
    }
   ],
   "source": [
    "missing_values = df.isnull().sum()\n",
    "missing_values = missing_values[missing_values > 0].sort_values(ascending=False)\n",
    "missing_values = missing_values / df.shape[0] * 100\n",
    "print(missing_values)"
   ]
  },
  {
   "cell_type": "markdown",
   "metadata": {},
   "source": [
    "# Creación de nuevas variables\n",
    "\n",
    "\n",
    "\n",
    "__Cabe destacar que más variables serán creadas en el paso de Visualización de datos conforme sea necesario respecto a las agrupaciones y transformaciones.__"
   ]
  },
  {
   "cell_type": "markdown",
   "metadata": {},
   "source": []
  },
  {
   "cell_type": "markdown",
   "metadata": {},
   "source": [
    "# Guardar dataset limpio\n",
    "A partir de aquí se guardará el dataset limpio y se importará en otros notebooks"
   ]
  },
  {
   "cell_type": "code",
   "execution_count": 6,
   "metadata": {},
   "outputs": [],
   "source": [
    "df.to_csv('DelayedFlightsClean.csv')"
   ]
  }
 ],
 "metadata": {
  "kernelspec": {
   "display_name": "Python 3",
   "language": "python",
   "name": "python3"
  },
  "language_info": {
   "codemirror_mode": {
    "name": "ipython",
    "version": 3
   },
   "file_extension": ".py",
   "mimetype": "text/x-python",
   "name": "python",
   "nbconvert_exporter": "python",
   "pygments_lexer": "ipython3",
   "version": "3.12.4"
  }
 },
 "nbformat": 4,
 "nbformat_minor": 2
}
