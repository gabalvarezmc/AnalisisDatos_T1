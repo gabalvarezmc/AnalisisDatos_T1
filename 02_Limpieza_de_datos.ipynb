{
 "cells": [
  {
   "cell_type": "markdown",
   "metadata": {},
   "source": [
    "# Limpieza de datos"
   ]
  },
  {
   "cell_type": "code",
   "execution_count": 17,
   "metadata": {},
   "outputs": [],
   "source": [
    "import pandas as pd\n",
    "import numpy as np\n",
    "import matplotlib.pyplot as plt\n",
    "df = pd.read_csv('DelayedFlights.csv', low_memory=False)"
   ]
  },
  {
   "cell_type": "markdown",
   "metadata": {},
   "source": [
    "## Redefinición de nombres de columnas\n",
    "Como la base de datos tiene nombres de columnas con carácteres especiales, se realiza una estandarización de los nombres de columnas, reemplazando espacios, tildes y otros carácteres especiales que se puedan encontrar.\n",
    "Esto se hace para evitar problemas futuros en el llamado de las columnas y para facilitar el trabajo del dataset."
   ]
  },
  {
   "cell_type": "code",
   "execution_count": 8,
   "metadata": {},
   "outputs": [
    {
     "name": "stdout",
     "output_type": "stream",
     "text": [
      "Index(['Year', 'Month', 'DayofMonth', 'DayOfWeek', 'DepTime', 'CRSDepTime',\n",
      "       'ArrTime', 'CRSArrTime', 'UniqueCarrier', 'FlightNum', 'TailNum',\n",
      "       'ActualElapsedTime', 'CRSElapsedTime', 'AirTime', 'ArrDelay',\n",
      "       'DepDelay', 'Origin', 'Dest', 'Distance', 'TaxiIn', 'TaxiOut',\n",
      "       'Cancelled', 'CancellationCode', 'Diverted', 'CarrierDelay',\n",
      "       'WeatherDelay', 'NASDelay', 'SecurityDelay', 'LateAircraftDelay', 'id'],\n",
      "      dtype='object')\n"
     ]
    }
   ],
   "source": [
    "# column \"Unnamed: 0\" = \"id\"\n",
    "df['id'] = df['Unnamed: 0']\n",
    "df.drop(['Unnamed: 0'], axis=1, inplace=True)\n",
    "print(df.columns)"
   ]
  },
  {
   "cell_type": "markdown",
   "metadata": {},
   "source": [
    "## Valores duplicados\n",
    "Como se pudo observar en la fase de análisis exploratorio, aparentemente en el dataset no existen valores duplicados. Sin embargo, es importante tener en cuenta que no pueden existir 2 vuelos con el mismo número de vuelo, misma fecha de despegue, mismos origen y destino y mismo carrier. Por esta razón, se ve si existen filas que compartan toda esta información en común"
   ]
  },
  {
   "cell_type": "code",
   "execution_count": 2,
   "metadata": {},
   "outputs": [
    {
     "name": "stdout",
     "output_type": "stream",
     "text": [
      "Número de filas del dataset: 1936758\n",
      "Número de vuelos diferentes: 1936756\n"
     ]
    }
   ],
   "source": [
    "flight_def_cols = [\"FlightNum\", \"Year\", \"Month\", \"DayofMonth\", \"CRSDepTime\", \"Origin\", \"Dest\", \"UniqueCarrier\"]\n",
    "numero_inicial_filas = len(df)\n",
    "print(f\"Número de filas del dataset: {numero_inicial_filas}\")\n",
    "print(f\"Número de vuelos diferentes: {len(df.drop_duplicates(subset=flight_def_cols, inplace = False))}\")"
   ]
  },
  {
   "cell_type": "markdown",
   "metadata": {},
   "source": [
    "Como se puede ver difieren en 2 filas, por lo cual hay 2 vuelos repetidos. Se filtran estos vuelos:"
   ]
  },
  {
   "cell_type": "code",
   "execution_count": 4,
   "metadata": {},
   "outputs": [],
   "source": [
    "df.drop_duplicates(subset=flight_def_cols, inplace = True)"
   ]
  },
  {
   "cell_type": "markdown",
   "metadata": {},
   "source": [
    "## Valores nulos\n",
    "Como primera medida, se considera como regla dejar fuera las columnas que tienen más de un 50% de datos nulos debido a la falta de información suficiente. \n",
    "\n",
    "Como las columnas del dataset que tienen valores nulos son menores del 50%, se mantendrán y se procederá a imputarlos\n",
    "\n"
   ]
  },
  {
   "cell_type": "code",
   "execution_count": 5,
   "metadata": {},
   "outputs": [
    {
     "name": "stdout",
     "output_type": "stream",
     "text": [
      "LateAircraftDelay    35.588892\n",
      "WeatherDelay         35.588892\n",
      "NASDelay             35.588892\n",
      "SecurityDelay        35.588892\n",
      "CarrierDelay         35.588892\n",
      "ActualElapsedTime     0.433044\n",
      "ArrDelay              0.433044\n",
      "AirTime               0.433044\n",
      "ArrTime               0.367109\n",
      "TaxiIn                0.367109\n",
      "TaxiOut               0.023493\n",
      "CRSElapsedTime        0.010223\n",
      "TailNum               0.000258\n",
      "dtype: float64\n"
     ]
    }
   ],
   "source": [
    "missing_values = df.isnull().sum()\n",
    "missing_values = missing_values[missing_values > 0].sort_values(ascending=False)\n",
    "missing_values = missing_values / df.shape[0] * 100\n",
    "cols_with_more_than50_mv = missing_values[missing_values > 50]\n",
    "print(missing_values)"
   ]
  },
  {
   "cell_type": "code",
   "execution_count": 40,
   "metadata": {},
   "outputs": [],
   "source": [
    "# IMPUTACIÓN DE VALORES FALTANTES"
   ]
  },
  {
   "cell_type": "code",
   "execution_count": 41,
   "metadata": {},
   "outputs": [
    {
     "name": "stdout",
     "output_type": "stream",
     "text": [
      "Series([], dtype: float64)\n"
     ]
    }
   ],
   "source": [
    "missing_values = df.isnull().sum()\n",
    "missing_values = missing_values[missing_values > 0].sort_values(ascending=False)\n",
    "missing_values = missing_values / df.shape[0] * 100\n",
    "print(missing_values)"
   ]
  },
  {
   "cell_type": "markdown",
   "metadata": {},
   "source": [
    "# Creación de nuevas variables\n",
    "\n",
    "\n",
    "\n",
    "__Cabe destacar que más variables serán creadas en el paso de Visualización de datos conforme sea necesario respecto a las agrupaciones y transformaciones.__"
   ]
  },
  {
   "cell_type": "code",
   "execution_count": 12,
   "metadata": {},
   "outputs": [
    {
     "name": "stdout",
     "output_type": "stream",
     "text": [
      "   DepartureHour\n",
      "0             20\n",
      "1              7\n",
      "2              6\n",
      "3             18\n",
      "4             19\n"
     ]
    }
   ],
   "source": [
    "df['DepartureHour'] = (df['DepTime'] // 100).astype(int)\n",
    "print(df[['DepartureHour']].head())"
   ]
  },
  {
   "cell_type": "code",
   "execution_count": 13,
   "metadata": {},
   "outputs": [
    {
     "name": "stdout",
     "output_type": "stream",
     "text": [
      "   ArrivalHour\n",
      "0           22\n",
      "1           10\n",
      "2            8\n",
      "3           19\n",
      "4           21\n"
     ]
    }
   ],
   "source": [
    "df['ArrTime'] = df['ArrTime'].fillna(0)\n",
    "\n",
    "df['ArrivalHour'] = (df['ArrTime'] // 100).astype(int)\n",
    "\n",
    "print(df[['ArrivalHour']].head())"
   ]
  },
  {
   "cell_type": "code",
   "execution_count": 14,
   "metadata": {},
   "outputs": [
    {
     "name": "stdout",
     "output_type": "stream",
     "text": [
      "   FlightDuration\n",
      "0           116.0\n",
      "1           113.0\n",
      "2            76.0\n",
      "3            77.0\n",
      "4            87.0\n"
     ]
    }
   ],
   "source": [
    "df['FlightDuration'] = df['ActualElapsedTime'] - df['TaxiIn'] - df['TaxiOut']\n",
    "print(df[['FlightDuration']].head())\n"
   ]
  },
  {
   "cell_type": "code",
   "execution_count": 18,
   "metadata": {},
   "outputs": [
    {
     "name": "stdout",
     "output_type": "stream",
     "text": [
      "    Distance DistanceCategory\n",
      "0        810             Long\n",
      "1        810             Long\n",
      "2        515           Medium\n",
      "3        515           Medium\n",
      "4        688           Medium\n",
      "5       1591             Long\n",
      "6        828             Long\n",
      "7        828             Long\n",
      "8        162            Short\n",
      "9       1489             Long\n",
      "10      1489             Long\n",
      "11       838             Long\n",
      "12       220            Short\n",
      "13       220            Short\n",
      "14       220            Short\n",
      "15       220            Short\n",
      "16       220            Short\n",
      "17      1093             Long\n",
      "18      1093             Long\n",
      "19       972             Long\n"
     ]
    }
   ],
   "source": [
    "conditions = [\n",
    "    (df['Distance'] <= 300),\n",
    "    (df['Distance'] <= 800),\n",
    "    (df['Distance'] > 800)\n",
    "]\n",
    "choices = ['Short', 'Medium', 'Long']\n",
    "\n",
    "# Crea la nueva columna 'DistanceCategory' usando np.select\n",
    "df['DistanceCategory'] = np.select(conditions, choices, default='Unknown')\n",
    "\n",
    "# Imprime las primeras filas para verificar los cambios\n",
    "print(df[['Distance', 'DistanceCategory']].head(20))"
   ]
  },
  {
   "cell_type": "code",
   "execution_count": 19,
   "metadata": {},
   "outputs": [
    {
     "name": "stdout",
     "output_type": "stream",
     "text": [
      "   DepTime  CRSDepTime  DepartureDelay\n",
      "0   2003.0        1955            48.0\n",
      "1    754.0         735            19.0\n",
      "2    628.0         620             8.0\n",
      "3   1829.0        1755            74.0\n",
      "4   1940.0        1915            25.0\n"
     ]
    }
   ],
   "source": [
    "df['DepartureDelay'] = df['DepTime'] - df['CRSDepTime']\n",
    "print(df[['DepTime', 'CRSDepTime', 'DepartureDelay']].head())\n"
   ]
  },
  {
   "cell_type": "code",
   "execution_count": 20,
   "metadata": {},
   "outputs": [
    {
     "name": "stdout",
     "output_type": "stream",
     "text": [
      "   ArrTime  CRSArrTime  ArrivalDelay\n",
      "0   2211.0        2225         -14.0\n",
      "1   1002.0        1000           2.0\n",
      "2    804.0         750          54.0\n",
      "3   1959.0        1925          34.0\n",
      "4   2121.0        2110          11.0\n"
     ]
    }
   ],
   "source": [
    "df['ArrivalDelay'] = df['ArrTime'] - df['CRSArrTime']\n",
    "print(df[['ArrTime', 'CRSArrTime', 'ArrivalDelay']].head())"
   ]
  },
  {
   "cell_type": "code",
   "execution_count": 21,
   "metadata": {},
   "outputs": [
    {
     "name": "stdout",
     "output_type": "stream",
     "text": [
      "   DepartureDelay  ArrivalDelay  TotalDelay\n",
      "0            48.0         -14.0        34.0\n",
      "1            19.0           2.0        21.0\n",
      "2             8.0          54.0        62.0\n",
      "3            74.0          34.0       108.0\n",
      "4            25.0          11.0        36.0\n"
     ]
    }
   ],
   "source": [
    "df['TotalDelay'] = df['DepartureDelay'] + df['ArrivalDelay']\n",
    "print(df[['DepartureDelay', 'ArrivalDelay', 'TotalDelay']].head())"
   ]
  },
  {
   "cell_type": "code",
   "execution_count": 22,
   "metadata": {},
   "outputs": [
    {
     "name": "stdout",
     "output_type": "stream",
     "text": [
      "   CRSArrTime  ScheduledArrivalHour\n",
      "0        2225                    22\n",
      "1        1000                    10\n",
      "2         750                     7\n",
      "3        1925                    19\n",
      "4        2110                    21\n"
     ]
    }
   ],
   "source": [
    "df['ScheduledArrivalHour'] = (df['CRSArrTime'] // 100).astype(int)\n",
    "print(df[['CRSArrTime', 'ScheduledArrivalHour']].head())"
   ]
  },
  {
   "cell_type": "markdown",
   "metadata": {},
   "source": [
    "# Guardar dataset limpio\n",
    "A partir de aquí se guardará el dataset limpio y se importará en otros notebooks"
   ]
  },
  {
   "cell_type": "code",
   "execution_count": 10,
   "metadata": {},
   "outputs": [
    {
     "data": {
      "text/html": [
       "<div>\n",
       "<style scoped>\n",
       "    .dataframe tbody tr th:only-of-type {\n",
       "        vertical-align: middle;\n",
       "    }\n",
       "\n",
       "    .dataframe tbody tr th {\n",
       "        vertical-align: top;\n",
       "    }\n",
       "\n",
       "    .dataframe thead th {\n",
       "        text-align: right;\n",
       "    }\n",
       "</style>\n",
       "<table border=\"1\" class=\"dataframe\">\n",
       "  <thead>\n",
       "    <tr style=\"text-align: right;\">\n",
       "      <th></th>\n",
       "      <th>Year</th>\n",
       "      <th>Month</th>\n",
       "      <th>DayofMonth</th>\n",
       "      <th>DayOfWeek</th>\n",
       "      <th>DepTime</th>\n",
       "      <th>CRSDepTime</th>\n",
       "      <th>ArrTime</th>\n",
       "      <th>CRSArrTime</th>\n",
       "      <th>UniqueCarrier</th>\n",
       "      <th>FlightNum</th>\n",
       "      <th>...</th>\n",
       "      <th>TaxiOut</th>\n",
       "      <th>Cancelled</th>\n",
       "      <th>CancellationCode</th>\n",
       "      <th>Diverted</th>\n",
       "      <th>CarrierDelay</th>\n",
       "      <th>WeatherDelay</th>\n",
       "      <th>NASDelay</th>\n",
       "      <th>SecurityDelay</th>\n",
       "      <th>LateAircraftDelay</th>\n",
       "      <th>id</th>\n",
       "    </tr>\n",
       "  </thead>\n",
       "  <tbody>\n",
       "    <tr>\n",
       "      <th>0</th>\n",
       "      <td>2008</td>\n",
       "      <td>1</td>\n",
       "      <td>3</td>\n",
       "      <td>4</td>\n",
       "      <td>2003.0</td>\n",
       "      <td>1955</td>\n",
       "      <td>2211.0</td>\n",
       "      <td>2225</td>\n",
       "      <td>WN</td>\n",
       "      <td>335</td>\n",
       "      <td>...</td>\n",
       "      <td>8.0</td>\n",
       "      <td>0</td>\n",
       "      <td>N</td>\n",
       "      <td>0</td>\n",
       "      <td>NaN</td>\n",
       "      <td>NaN</td>\n",
       "      <td>NaN</td>\n",
       "      <td>NaN</td>\n",
       "      <td>NaN</td>\n",
       "      <td>0</td>\n",
       "    </tr>\n",
       "    <tr>\n",
       "      <th>1</th>\n",
       "      <td>2008</td>\n",
       "      <td>1</td>\n",
       "      <td>3</td>\n",
       "      <td>4</td>\n",
       "      <td>754.0</td>\n",
       "      <td>735</td>\n",
       "      <td>1002.0</td>\n",
       "      <td>1000</td>\n",
       "      <td>WN</td>\n",
       "      <td>3231</td>\n",
       "      <td>...</td>\n",
       "      <td>10.0</td>\n",
       "      <td>0</td>\n",
       "      <td>N</td>\n",
       "      <td>0</td>\n",
       "      <td>NaN</td>\n",
       "      <td>NaN</td>\n",
       "      <td>NaN</td>\n",
       "      <td>NaN</td>\n",
       "      <td>NaN</td>\n",
       "      <td>1</td>\n",
       "    </tr>\n",
       "    <tr>\n",
       "      <th>2</th>\n",
       "      <td>2008</td>\n",
       "      <td>1</td>\n",
       "      <td>3</td>\n",
       "      <td>4</td>\n",
       "      <td>628.0</td>\n",
       "      <td>620</td>\n",
       "      <td>804.0</td>\n",
       "      <td>750</td>\n",
       "      <td>WN</td>\n",
       "      <td>448</td>\n",
       "      <td>...</td>\n",
       "      <td>17.0</td>\n",
       "      <td>0</td>\n",
       "      <td>N</td>\n",
       "      <td>0</td>\n",
       "      <td>NaN</td>\n",
       "      <td>NaN</td>\n",
       "      <td>NaN</td>\n",
       "      <td>NaN</td>\n",
       "      <td>NaN</td>\n",
       "      <td>2</td>\n",
       "    </tr>\n",
       "    <tr>\n",
       "      <th>3</th>\n",
       "      <td>2008</td>\n",
       "      <td>1</td>\n",
       "      <td>3</td>\n",
       "      <td>4</td>\n",
       "      <td>1829.0</td>\n",
       "      <td>1755</td>\n",
       "      <td>1959.0</td>\n",
       "      <td>1925</td>\n",
       "      <td>WN</td>\n",
       "      <td>3920</td>\n",
       "      <td>...</td>\n",
       "      <td>10.0</td>\n",
       "      <td>0</td>\n",
       "      <td>N</td>\n",
       "      <td>0</td>\n",
       "      <td>2.0</td>\n",
       "      <td>0.0</td>\n",
       "      <td>0.0</td>\n",
       "      <td>0.0</td>\n",
       "      <td>32.0</td>\n",
       "      <td>4</td>\n",
       "    </tr>\n",
       "    <tr>\n",
       "      <th>4</th>\n",
       "      <td>2008</td>\n",
       "      <td>1</td>\n",
       "      <td>3</td>\n",
       "      <td>4</td>\n",
       "      <td>1940.0</td>\n",
       "      <td>1915</td>\n",
       "      <td>2121.0</td>\n",
       "      <td>2110</td>\n",
       "      <td>WN</td>\n",
       "      <td>378</td>\n",
       "      <td>...</td>\n",
       "      <td>10.0</td>\n",
       "      <td>0</td>\n",
       "      <td>N</td>\n",
       "      <td>0</td>\n",
       "      <td>NaN</td>\n",
       "      <td>NaN</td>\n",
       "      <td>NaN</td>\n",
       "      <td>NaN</td>\n",
       "      <td>NaN</td>\n",
       "      <td>5</td>\n",
       "    </tr>\n",
       "    <tr>\n",
       "      <th>...</th>\n",
       "      <td>...</td>\n",
       "      <td>...</td>\n",
       "      <td>...</td>\n",
       "      <td>...</td>\n",
       "      <td>...</td>\n",
       "      <td>...</td>\n",
       "      <td>...</td>\n",
       "      <td>...</td>\n",
       "      <td>...</td>\n",
       "      <td>...</td>\n",
       "      <td>...</td>\n",
       "      <td>...</td>\n",
       "      <td>...</td>\n",
       "      <td>...</td>\n",
       "      <td>...</td>\n",
       "      <td>...</td>\n",
       "      <td>...</td>\n",
       "      <td>...</td>\n",
       "      <td>...</td>\n",
       "      <td>...</td>\n",
       "      <td>...</td>\n",
       "    </tr>\n",
       "    <tr>\n",
       "      <th>1936753</th>\n",
       "      <td>2008</td>\n",
       "      <td>12</td>\n",
       "      <td>13</td>\n",
       "      <td>6</td>\n",
       "      <td>1250.0</td>\n",
       "      <td>1220</td>\n",
       "      <td>1617.0</td>\n",
       "      <td>1552</td>\n",
       "      <td>DL</td>\n",
       "      <td>1621</td>\n",
       "      <td>...</td>\n",
       "      <td>18.0</td>\n",
       "      <td>0</td>\n",
       "      <td>N</td>\n",
       "      <td>0</td>\n",
       "      <td>3.0</td>\n",
       "      <td>0.0</td>\n",
       "      <td>0.0</td>\n",
       "      <td>0.0</td>\n",
       "      <td>22.0</td>\n",
       "      <td>7009710</td>\n",
       "    </tr>\n",
       "    <tr>\n",
       "      <th>1936754</th>\n",
       "      <td>2008</td>\n",
       "      <td>12</td>\n",
       "      <td>13</td>\n",
       "      <td>6</td>\n",
       "      <td>657.0</td>\n",
       "      <td>600</td>\n",
       "      <td>904.0</td>\n",
       "      <td>749</td>\n",
       "      <td>DL</td>\n",
       "      <td>1631</td>\n",
       "      <td>...</td>\n",
       "      <td>34.0</td>\n",
       "      <td>0</td>\n",
       "      <td>N</td>\n",
       "      <td>0</td>\n",
       "      <td>0.0</td>\n",
       "      <td>57.0</td>\n",
       "      <td>18.0</td>\n",
       "      <td>0.0</td>\n",
       "      <td>0.0</td>\n",
       "      <td>7009717</td>\n",
       "    </tr>\n",
       "    <tr>\n",
       "      <th>1936755</th>\n",
       "      <td>2008</td>\n",
       "      <td>12</td>\n",
       "      <td>13</td>\n",
       "      <td>6</td>\n",
       "      <td>1007.0</td>\n",
       "      <td>847</td>\n",
       "      <td>1149.0</td>\n",
       "      <td>1010</td>\n",
       "      <td>DL</td>\n",
       "      <td>1631</td>\n",
       "      <td>...</td>\n",
       "      <td>32.0</td>\n",
       "      <td>0</td>\n",
       "      <td>N</td>\n",
       "      <td>0</td>\n",
       "      <td>1.0</td>\n",
       "      <td>0.0</td>\n",
       "      <td>19.0</td>\n",
       "      <td>0.0</td>\n",
       "      <td>79.0</td>\n",
       "      <td>7009718</td>\n",
       "    </tr>\n",
       "    <tr>\n",
       "      <th>1936756</th>\n",
       "      <td>2008</td>\n",
       "      <td>12</td>\n",
       "      <td>13</td>\n",
       "      <td>6</td>\n",
       "      <td>1251.0</td>\n",
       "      <td>1240</td>\n",
       "      <td>1446.0</td>\n",
       "      <td>1437</td>\n",
       "      <td>DL</td>\n",
       "      <td>1639</td>\n",
       "      <td>...</td>\n",
       "      <td>13.0</td>\n",
       "      <td>0</td>\n",
       "      <td>N</td>\n",
       "      <td>0</td>\n",
       "      <td>NaN</td>\n",
       "      <td>NaN</td>\n",
       "      <td>NaN</td>\n",
       "      <td>NaN</td>\n",
       "      <td>NaN</td>\n",
       "      <td>7009726</td>\n",
       "    </tr>\n",
       "    <tr>\n",
       "      <th>1936757</th>\n",
       "      <td>2008</td>\n",
       "      <td>12</td>\n",
       "      <td>13</td>\n",
       "      <td>6</td>\n",
       "      <td>1110.0</td>\n",
       "      <td>1103</td>\n",
       "      <td>1413.0</td>\n",
       "      <td>1418</td>\n",
       "      <td>DL</td>\n",
       "      <td>1641</td>\n",
       "      <td>...</td>\n",
       "      <td>11.0</td>\n",
       "      <td>0</td>\n",
       "      <td>N</td>\n",
       "      <td>0</td>\n",
       "      <td>NaN</td>\n",
       "      <td>NaN</td>\n",
       "      <td>NaN</td>\n",
       "      <td>NaN</td>\n",
       "      <td>NaN</td>\n",
       "      <td>7009727</td>\n",
       "    </tr>\n",
       "  </tbody>\n",
       "</table>\n",
       "<p>1936756 rows × 30 columns</p>\n",
       "</div>"
      ],
      "text/plain": [
       "         Year  Month  DayofMonth  DayOfWeek  DepTime  CRSDepTime  ArrTime  \\\n",
       "0        2008      1           3          4   2003.0        1955   2211.0   \n",
       "1        2008      1           3          4    754.0         735   1002.0   \n",
       "2        2008      1           3          4    628.0         620    804.0   \n",
       "3        2008      1           3          4   1829.0        1755   1959.0   \n",
       "4        2008      1           3          4   1940.0        1915   2121.0   \n",
       "...       ...    ...         ...        ...      ...         ...      ...   \n",
       "1936753  2008     12          13          6   1250.0        1220   1617.0   \n",
       "1936754  2008     12          13          6    657.0         600    904.0   \n",
       "1936755  2008     12          13          6   1007.0         847   1149.0   \n",
       "1936756  2008     12          13          6   1251.0        1240   1446.0   \n",
       "1936757  2008     12          13          6   1110.0        1103   1413.0   \n",
       "\n",
       "         CRSArrTime UniqueCarrier  FlightNum  ... TaxiOut  Cancelled  \\\n",
       "0              2225            WN        335  ...     8.0          0   \n",
       "1              1000            WN       3231  ...    10.0          0   \n",
       "2               750            WN        448  ...    17.0          0   \n",
       "3              1925            WN       3920  ...    10.0          0   \n",
       "4              2110            WN        378  ...    10.0          0   \n",
       "...             ...           ...        ...  ...     ...        ...   \n",
       "1936753        1552            DL       1621  ...    18.0          0   \n",
       "1936754         749            DL       1631  ...    34.0          0   \n",
       "1936755        1010            DL       1631  ...    32.0          0   \n",
       "1936756        1437            DL       1639  ...    13.0          0   \n",
       "1936757        1418            DL       1641  ...    11.0          0   \n",
       "\n",
       "         CancellationCode  Diverted  CarrierDelay  WeatherDelay NASDelay  \\\n",
       "0                       N         0           NaN           NaN      NaN   \n",
       "1                       N         0           NaN           NaN      NaN   \n",
       "2                       N         0           NaN           NaN      NaN   \n",
       "3                       N         0           2.0           0.0      0.0   \n",
       "4                       N         0           NaN           NaN      NaN   \n",
       "...                   ...       ...           ...           ...      ...   \n",
       "1936753                 N         0           3.0           0.0      0.0   \n",
       "1936754                 N         0           0.0          57.0     18.0   \n",
       "1936755                 N         0           1.0           0.0     19.0   \n",
       "1936756                 N         0           NaN           NaN      NaN   \n",
       "1936757                 N         0           NaN           NaN      NaN   \n",
       "\n",
       "        SecurityDelay  LateAircraftDelay       id  \n",
       "0                 NaN                NaN        0  \n",
       "1                 NaN                NaN        1  \n",
       "2                 NaN                NaN        2  \n",
       "3                 0.0               32.0        4  \n",
       "4                 NaN                NaN        5  \n",
       "...               ...                ...      ...  \n",
       "1936753           0.0               22.0  7009710  \n",
       "1936754           0.0                0.0  7009717  \n",
       "1936755           0.0               79.0  7009718  \n",
       "1936756           NaN                NaN  7009726  \n",
       "1936757           NaN                NaN  7009727  \n",
       "\n",
       "[1936756 rows x 30 columns]"
      ]
     },
     "execution_count": 10,
     "metadata": {},
     "output_type": "execute_result"
    }
   ],
   "source": [
    "df"
   ]
  },
  {
   "cell_type": "code",
   "execution_count": 11,
   "metadata": {},
   "outputs": [],
   "source": [
    "df.to_csv('DelayedFlightsClean.csv')"
   ]
  }
 ],
 "metadata": {
  "kernelspec": {
   "display_name": "Python 3",
   "language": "python",
   "name": "python3"
  },
  "language_info": {
   "codemirror_mode": {
    "name": "ipython",
    "version": 3
   },
   "file_extension": ".py",
   "mimetype": "text/x-python",
   "name": "python",
   "nbconvert_exporter": "python",
   "pygments_lexer": "ipython3",
   "version": "3.12.4"
  }
 },
 "nbformat": 4,
 "nbformat_minor": 2
}
