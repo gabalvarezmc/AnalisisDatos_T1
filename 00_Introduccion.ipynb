{
 "cells": [
  {
   "cell_type": "markdown",
   "metadata": {},
   "source": [
    "# Análisis de datos\n",
    "## Evaluación 1: Preparación de datos\n",
    "#### Integrantes:\n",
    "- César Alfonso Soto Segura\n",
    "- Constanza Andrea Perez Pulido\n",
    "- Diego Javier León González\n",
    "- Gabriel Alejandro Álvarez Martínez-Conde"
   ]
  },
  {
   "cell_type": "markdown",
   "metadata": {},
   "source": [
    "El presente documento tiene como objetivo realizar un análisis de datos sobre un dataset elegido por el equipo, considerando las siguientes etapas:\n",
    "- Análisis exploratorio (Notebook **01_Analisis_exploratorio.ipynb**): En esta etapa se realiza un análisis exploratorio de los datos, identificando las variables y su tipo, la presencia de datos faltantes, la distribución de las variables, entre otros.\n",
    "- Limpieza de datos (Notebook **02_Limpieza_de_datos.ipynb**): En esta etapa se realiza la limpieza de los datos, considerando la imputación de datos faltantes, la eliminación de variables no relevantes, la eliminación de duplicados, entre otros.\n",
    "- Visualizaciones (Notebook **03_Visualizaciones.ipynb**): En esta etapa se realizan visualizaciones de los datos con el objetivo de identificar patrones, relaciones y comportamientos de las variables.\n",
    "\n",
    "El dataset seleccionado por el equipo corresponde a un conjunto de datos de la plataforma de Kaggle, el cual contiene información de vuelos de aviones en estados unidos en el año 2008. La información disponibiliza el retraso de los vuelos por distintos motivos, la distancia recorrida, la hora de salida, entre otros. El dataset puede ser encontrado en https://www.kaggle.com/datasets/giovamata/airlinedelaycauses\n",
    "\n"
   ]
  }
 ],
 "metadata": {
  "language_info": {
   "name": "python"
  }
 },
 "nbformat": 4,
 "nbformat_minor": 2
}
